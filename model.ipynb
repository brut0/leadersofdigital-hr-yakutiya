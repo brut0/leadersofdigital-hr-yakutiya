{
 "cells": [
  {
   "cell_type": "code",
   "execution_count": 1,
   "metadata": {},
   "outputs": [],
   "source": [
    "import time as tm\n",
    "import numpy as np\n",
    "import pandas as pd\n",
    "from sklearn.model_selection import train_test_split\n",
    "from sklearn.metrics import make_scorer, recall_score, classification_report\n",
    "from sklearn.preprocessing import MinMaxScaler\n",
    "# from sklearn.feature_extraction import DictVectorizer\n",
    "from sklearn.preprocessing import OrdinalEncoder\n",
    "from sklearn.model_selection import GridSearchCV\n",
    "from sklearn.tree import DecisionTreeClassifier\n",
    "from sklearn.ensemble import RandomForestClassifier\n",
    "# from sklearn.linear_model import LogisticRegression, RidgeClassifier\n",
    "from catboost import CatBoostClassifier, Pool\n",
    "from xgboost import XGBClassifier\n",
    "from imblearn.over_sampling import SMOTENC\n",
    "from collections import Counter\n",
    "import shap as shap # feature importance plotting\n",
    "\n",
    "N_JOBS = 7\n",
    "N_FOLDS = 5\n",
    "SEED = 42"
   ]
  },
  {
   "cell_type": "code",
   "execution_count": 2,
   "metadata": {},
   "outputs": [],
   "source": [
    "df_train = pd.read_csv('train_features_8.csv')\n",
    "df_test = pd.read_csv('test_features_8.csv')"
   ]
  },
  {
   "cell_type": "code",
   "execution_count": 3,
   "metadata": {},
   "outputs": [],
   "source": [
    "X = df_train.drop([\"id\", \"type\"], axis = 1)\n",
    "y = df_train[\"type\"]\n",
    "\n",
    "X_test = df_test.drop([\"id\", \"type\"], axis = 1)"
   ]
  },
  {
   "cell_type": "code",
   "execution_count": 4,
   "metadata": {},
   "outputs": [
    {
     "name": "stdout",
     "output_type": "stream",
     "text": [
      "Count of features: 38\n"
     ]
    }
   ],
   "source": [
    "CAT_FEATURES = [\n",
    "              'education', 'id_org'\n",
    "            ]\n",
    "NUM_FEATURES = [\n",
    "                'is_late_last', 'is_hooky_last', 'edu_middle_prof', 'has_boss',\n",
    "                'has_sub', 'edu_middle', 'edu_primary_prof',\n",
    "                'calls_weekday_sum', 'calls_weekend_sum', 'time_calls_weekday_sum', 'time_calls_weekend_sum',\n",
    "                'call_weekday_count', 'call_weekend_count', 'time_calls_weekday_mean', 'time_calls_weekend_mean', 'dateNum_count',\n",
    "                'is_delay_mean', 'is_late_mean', 'is_hooky_mean', 'is_delay_sum', 'is_late_sum', 'is_hooky_sum',\n",
    "                'time_delay_sum', 'time_delay_mean', 'time_late_sum', 'time_late_mean', 'time_hooky_sum', 'time_hooky_mean',\n",
    "                'edu_high', 'edu_training', 'count_subords',\n",
    "                'task_count', 'task_wasted_days_sum', 'task_wasted_days_mean', 'task_wasted_count', 'task_wasted_fraction',\n",
    "              ]\n",
    "\n",
    "ALL_FEATURES = CAT_FEATURES + NUM_FEATURES\n",
    "\n",
    "print(f\"Count of features: {len(ALL_FEATURES)}\")"
   ]
  },
  {
   "cell_type": "code",
   "execution_count": 5,
   "metadata": {},
   "outputs": [],
   "source": [
    "X = X[ALL_FEATURES]\n",
    "X_test = X_test[ALL_FEATURES]"
   ]
  },
  {
   "cell_type": "code",
   "execution_count": 6,
   "metadata": {},
   "outputs": [
    {
     "name": "stdout",
     "output_type": "stream",
     "text": [
      "Counter({2: 298, 0: 153, 1: 74, 3: 25})\n",
      "Counter({2: 298, 0: 250, 1: 200, 3: 150})\n"
     ]
    }
   ],
   "source": [
    "print(Counter(y))\n",
    "oversample = SMOTENC(categorical_features=[i for i in range(len(CAT_FEATURES))],\n",
    "                     sampling_strategy={2: 298, 0: 250, 1: 200, 3: 150},\n",
    "                     random_state=SEED)\n",
    "X, y = oversample.fit_resample(X, y)\n",
    "print(Counter(y))"
   ]
  },
  {
   "cell_type": "code",
   "execution_count": 7,
   "metadata": {},
   "outputs": [],
   "source": [
    "scorer = make_scorer(recall_score, average = 'macro')"
   ]
  },
  {
   "cell_type": "code",
   "execution_count": 8,
   "metadata": {},
   "outputs": [],
   "source": [
    "models = {\n",
    "    # 'Logistic Regression': {\n",
    "    #     'model': LogisticRegression(solver='saga', random_state=SEED),\n",
    "    #     'params': {\n",
    "    #         'penalty': ('l1', 'l2', 'elasticnet'),\n",
    "    #         'tol': (1e-06, 1e-04),\n",
    "    #     },\n",
    "    # },\n",
    "    # 'Ridge Classifier': {\n",
    "    #     'model': RidgeClassifier(),\n",
    "    #     'params': {\n",
    "    #         'alpha': (0.1, 0.5, 1.0, 10, 25, 50, 100),\n",
    "    #         'tol': (1e-06, 1e-04),\n",
    "    #     },\n",
    "    # },\n",
    "    'RandomForestClassifier': {\n",
    "        'model': RandomForestClassifier(n_jobs=N_JOBS, random_state=SEED),\n",
    "        'params': {\n",
    "            'n_estimators': (50, 100, 200),\n",
    "            'max_depth': (None, 3, 5, 9),\n",
    "        },\n",
    "    },\n",
    "    # 'Desicion Tree': {\n",
    "    #     'model': DecisionTreeClassifier(random_state=SEED),\n",
    "    #     'params': {\n",
    "    #         'criterion': ('gini', 'log_loss'),\n",
    "    #         'max_depth': (3, 4, 5, 6,),\n",
    "    #         'min_samples_split': (2, 4, 6),\n",
    "    #         'min_samples_leaf': (2,3)\n",
    "    #     },\n",
    "    # },\n",
    "    'CatBoost': {\n",
    "        'model': CatBoostClassifier(random_state=SEED, silent=True),\n",
    "        'params': {\n",
    "            # 'iterations': [500, 1000, 2000],\n",
    "            'l2_leaf_reg': [0.5],\n",
    "            # 'subsample': [0.9, 0.95, 0.99],\n",
    "        },\n",
    "    },\n",
    "    # 'XGBoost': {\n",
    "    #     'model': XGBClassifier(n_estimators=500, eval_metric=scorer, n_jobs=N_JOBS, random_state=SEED),\n",
    "    #     'params': {\n",
    "    #         # 'booster': ['gbtree', 'dart'],\n",
    "    #         # 'eval_metric': [\"mae\"],\n",
    "    #         # 'n_estimators': [200, 400, 1000, 2000, 5000],\n",
    "    #         # 'max_depth': [3, 4, 5], #3,6\n",
    "    #         # 'reg_alpha': [0.01, 0.1, 0.2, 0.5, 1, 5, 10, 50, 75, 100, 150, 200],\n",
    "    #         # 'reg_lambda': [0.01, 0.1, 0.5, 1, 10, 100],\n",
    "    #     },\n",
    "    # },\n",
    "}"
   ]
  },
  {
   "cell_type": "code",
   "execution_count": 9,
   "metadata": {},
   "outputs": [],
   "source": [
    "ordinal_encoder = OrdinalEncoder()\n",
    "X[CAT_FEATURES] = ordinal_encoder.fit_transform(X[CAT_FEATURES])\n",
    "\n",
    "scaler = MinMaxScaler()\n",
    "X[NUM_FEATURES] = scaler.fit_transform(X[NUM_FEATURES])"
   ]
  },
  {
   "cell_type": "code",
   "execution_count": 10,
   "metadata": {},
   "outputs": [
    {
     "name": "stdout",
     "output_type": "stream",
     "text": [
      "RandomForestClassifier\n",
      "{'n_estimators': (50, 100, 200), 'max_depth': (None, 3, 5, 9)}\n",
      "{'max_depth': None, 'n_estimators': 200}\n",
      "cross-val: 0.7623531073446328\n",
      "Fit time: 16s\n",
      "\n",
      "CatBoost\n",
      "{'l2_leaf_reg': [0.5]}\n",
      "{'l2_leaf_reg': 0.5}\n",
      "cross-val: 0.7630466101694914\n",
      "Fit time: 233s\n",
      "\n"
     ]
    }
   ],
   "source": [
    "for model_name, m in models.items():\n",
    "    print(model_name)\n",
    "    model = m['model']\n",
    "    params = m['params']\n",
    "    print(params)\n",
    "\n",
    "    start = tm.time()\n",
    "    clf = GridSearchCV(\n",
    "        model,\n",
    "        params,\n",
    "        cv=N_FOLDS,\n",
    "        scoring=scorer,\n",
    "        return_train_score=False,\n",
    "        n_jobs=N_JOBS,\n",
    "    )\n",
    "    clf.fit(X, y)\n",
    "    model = clf.best_estimator_\n",
    "    cv_score = -clf.best_score_\n",
    "    models[model_name]['predictor'] = model\n",
    "    # test_metrics = eval_metrics(y_test, model.predict(X_test))\n",
    "    print(clf.best_params_)\n",
    "    print(f\"cross-val: {-cv_score}\")\n",
    "    # for metric, value in test_metrics.items():\n",
    "    #     logger.info(f\"{metric}: {value}\")\n",
    "    print(f\"Fit time: {(tm.time() - start):.0f}s\\n\")"
   ]
  },
  {
   "cell_type": "markdown",
   "metadata": {},
   "source": [
    "## Validate"
   ]
  },
  {
   "cell_type": "code",
   "execution_count": 11,
   "metadata": {},
   "outputs": [],
   "source": [
    "X_train, X_val, y_train, y_val = train_test_split(X, y, test_size=0.2, random_state=SEED)"
   ]
  },
  {
   "cell_type": "code",
   "execution_count": 12,
   "metadata": {},
   "outputs": [
    {
     "name": "stdout",
     "output_type": "stream",
     "text": [
      "              precision    recall  f1-score   support\n",
      "\n",
      "           0       0.59      0.62      0.60        52\n",
      "           1       0.79      0.71      0.75        42\n",
      "           2       0.56      0.58      0.57        57\n",
      "           3       0.93      0.93      0.93        29\n",
      "\n",
      "    accuracy                           0.68       180\n",
      "   macro avg       0.72      0.71      0.71       180\n",
      "weighted avg       0.68      0.68      0.68       180\n",
      "\n"
     ]
    }
   ],
   "source": [
    "model = models['CatBoost']['predictor']\n",
    "model.fit(X_train, y_train)\n",
    "\n",
    "predictions_val = model.predict(X_val)\n",
    "\n",
    "print(classification_report(y_val, predictions_val))"
   ]
  },
  {
   "cell_type": "code",
   "execution_count": 13,
   "metadata": {},
   "outputs": [
    {
     "name": "stdout",
     "output_type": "stream",
     "text": [
      "              precision    recall  f1-score   support\n",
      "\n",
      "           0       0.59      0.58      0.58        52\n",
      "           1       0.82      0.67      0.74        42\n",
      "           2       0.56      0.67      0.61        57\n",
      "           3       0.89      0.83      0.86        29\n",
      "\n",
      "    accuracy                           0.67       180\n",
      "   macro avg       0.71      0.68      0.70       180\n",
      "weighted avg       0.68      0.67      0.67       180\n",
      "\n"
     ]
    }
   ],
   "source": [
    "model = models['RandomForestClassifier']['predictor']\n",
    "model.fit(X_train, y_train)\n",
    "\n",
    "predictions_val = model.predict(X_val)\n",
    "\n",
    "print(classification_report(y_val, predictions_val))"
   ]
  },
  {
   "cell_type": "markdown",
   "metadata": {},
   "source": [
    "## Test"
   ]
  },
  {
   "cell_type": "code",
   "execution_count": 14,
   "metadata": {},
   "outputs": [],
   "source": [
    "X_test[CAT_FEATURES] = ordinal_encoder.transform(X_test[CAT_FEATURES])\n",
    "X_test[NUM_FEATURES] = scaler.transform(X_test[NUM_FEATURES])"
   ]
  },
  {
   "cell_type": "code",
   "execution_count": 15,
   "metadata": {},
   "outputs": [],
   "source": [
    "# predictions = models['CatBoost']['predictor'].predict(X_test)\n",
    "\n",
    "# df_test['type'] = predictions\n",
    "# df_test['type'].value_counts()"
   ]
  },
  {
   "cell_type": "code",
   "execution_count": 16,
   "metadata": {},
   "outputs": [],
   "source": [
    "# df_test[['id', 'type']].to_csv('test_16_1.csv', index=False)"
   ]
  },
  {
   "cell_type": "markdown",
   "metadata": {},
   "source": [
    "#### Refit best model"
   ]
  },
  {
   "cell_type": "code",
   "execution_count": 17,
   "metadata": {},
   "outputs": [
    {
     "data": {
      "text/plain": [
       "2    165\n",
       "0     63\n",
       "1     32\n",
       "3      2\n",
       "Name: type, dtype: int64"
      ]
     },
     "execution_count": 17,
     "metadata": {},
     "output_type": "execute_result"
    }
   ],
   "source": [
    "model = models['CatBoost']['predictor']\n",
    "model.fit(X, y)\n",
    "\n",
    "predictions = model.predict(X_test)\n",
    "\n",
    "df_test['type'] = predictions\n",
    "df_test['type'].value_counts()"
   ]
  },
  {
   "cell_type": "code",
   "execution_count": 18,
   "metadata": {},
   "outputs": [],
   "source": [
    "df_test[['id', 'type']].to_csv('test_17_x.csv', index=False)"
   ]
  },
  {
   "cell_type": "markdown",
   "metadata": {},
   "source": [
    "#### Feature importance"
   ]
  },
  {
   "cell_type": "code",
   "execution_count": 19,
   "metadata": {},
   "outputs": [
    {
     "data": {
      "text/html": [
       "<div>\n",
       "<style scoped>\n",
       "    .dataframe tbody tr th:only-of-type {\n",
       "        vertical-align: middle;\n",
       "    }\n",
       "\n",
       "    .dataframe tbody tr th {\n",
       "        vertical-align: top;\n",
       "    }\n",
       "\n",
       "    .dataframe thead th {\n",
       "        text-align: right;\n",
       "    }\n",
       "</style>\n",
       "<table border=\"1\" class=\"dataframe\">\n",
       "  <thead>\n",
       "    <tr style=\"text-align: right;\">\n",
       "      <th></th>\n",
       "      <th>0</th>\n",
       "    </tr>\n",
       "  </thead>\n",
       "  <tbody>\n",
       "    <tr>\n",
       "      <th>has_boss</th>\n",
       "      <td>8.524886</td>\n",
       "    </tr>\n",
       "    <tr>\n",
       "      <th>time_calls_weekday_mean</th>\n",
       "      <td>6.666910</td>\n",
       "    </tr>\n",
       "    <tr>\n",
       "      <th>task_wasted_fraction</th>\n",
       "      <td>4.661210</td>\n",
       "    </tr>\n",
       "    <tr>\n",
       "      <th>task_wasted_days_mean</th>\n",
       "      <td>4.386173</td>\n",
       "    </tr>\n",
       "    <tr>\n",
       "      <th>time_late_mean</th>\n",
       "      <td>4.206492</td>\n",
       "    </tr>\n",
       "    <tr>\n",
       "      <th>time_late_sum</th>\n",
       "      <td>4.079175</td>\n",
       "    </tr>\n",
       "    <tr>\n",
       "      <th>edu_high</th>\n",
       "      <td>3.969844</td>\n",
       "    </tr>\n",
       "    <tr>\n",
       "      <th>task_count</th>\n",
       "      <td>3.720441</td>\n",
       "    </tr>\n",
       "    <tr>\n",
       "      <th>id_org</th>\n",
       "      <td>3.525137</td>\n",
       "    </tr>\n",
       "    <tr>\n",
       "      <th>is_late_sum</th>\n",
       "      <td>3.331863</td>\n",
       "    </tr>\n",
       "    <tr>\n",
       "      <th>call_weekday_count</th>\n",
       "      <td>3.243624</td>\n",
       "    </tr>\n",
       "    <tr>\n",
       "      <th>is_late_mean</th>\n",
       "      <td>3.172193</td>\n",
       "    </tr>\n",
       "    <tr>\n",
       "      <th>time_delay_mean</th>\n",
       "      <td>3.108780</td>\n",
       "    </tr>\n",
       "    <tr>\n",
       "      <th>is_hooky_mean</th>\n",
       "      <td>3.097030</td>\n",
       "    </tr>\n",
       "    <tr>\n",
       "      <th>calls_weekday_sum</th>\n",
       "      <td>2.987328</td>\n",
       "    </tr>\n",
       "    <tr>\n",
       "      <th>is_delay_mean</th>\n",
       "      <td>2.950927</td>\n",
       "    </tr>\n",
       "    <tr>\n",
       "      <th>time_hooky_sum</th>\n",
       "      <td>2.851232</td>\n",
       "    </tr>\n",
       "    <tr>\n",
       "      <th>task_wasted_count</th>\n",
       "      <td>2.810247</td>\n",
       "    </tr>\n",
       "    <tr>\n",
       "      <th>task_wasted_days_sum</th>\n",
       "      <td>2.732017</td>\n",
       "    </tr>\n",
       "    <tr>\n",
       "      <th>time_calls_weekday_sum</th>\n",
       "      <td>2.708392</td>\n",
       "    </tr>\n",
       "    <tr>\n",
       "      <th>time_hooky_mean</th>\n",
       "      <td>2.659772</td>\n",
       "    </tr>\n",
       "    <tr>\n",
       "      <th>dateNum_count</th>\n",
       "      <td>2.581539</td>\n",
       "    </tr>\n",
       "    <tr>\n",
       "      <th>is_delay_sum</th>\n",
       "      <td>2.446067</td>\n",
       "    </tr>\n",
       "    <tr>\n",
       "      <th>education</th>\n",
       "      <td>2.356520</td>\n",
       "    </tr>\n",
       "    <tr>\n",
       "      <th>time_delay_sum</th>\n",
       "      <td>1.858881</td>\n",
       "    </tr>\n",
       "    <tr>\n",
       "      <th>is_hooky_last</th>\n",
       "      <td>1.678210</td>\n",
       "    </tr>\n",
       "    <tr>\n",
       "      <th>is_hooky_sum</th>\n",
       "      <td>1.638941</td>\n",
       "    </tr>\n",
       "    <tr>\n",
       "      <th>edu_middle_prof</th>\n",
       "      <td>1.472424</td>\n",
       "    </tr>\n",
       "    <tr>\n",
       "      <th>time_calls_weekend_mean</th>\n",
       "      <td>1.467709</td>\n",
       "    </tr>\n",
       "    <tr>\n",
       "      <th>call_weekend_count</th>\n",
       "      <td>1.143043</td>\n",
       "    </tr>\n",
       "    <tr>\n",
       "      <th>edu_training</th>\n",
       "      <td>1.031560</td>\n",
       "    </tr>\n",
       "    <tr>\n",
       "      <th>time_calls_weekend_sum</th>\n",
       "      <td>0.935248</td>\n",
       "    </tr>\n",
       "    <tr>\n",
       "      <th>is_late_last</th>\n",
       "      <td>0.702942</td>\n",
       "    </tr>\n",
       "    <tr>\n",
       "      <th>calls_weekend_sum</th>\n",
       "      <td>0.638717</td>\n",
       "    </tr>\n",
       "    <tr>\n",
       "      <th>has_sub</th>\n",
       "      <td>0.374713</td>\n",
       "    </tr>\n",
       "    <tr>\n",
       "      <th>count_subords</th>\n",
       "      <td>0.252819</td>\n",
       "    </tr>\n",
       "    <tr>\n",
       "      <th>edu_primary_prof</th>\n",
       "      <td>0.018616</td>\n",
       "    </tr>\n",
       "    <tr>\n",
       "      <th>edu_middle</th>\n",
       "      <td>0.008376</td>\n",
       "    </tr>\n",
       "  </tbody>\n",
       "</table>\n",
       "</div>"
      ],
      "text/plain": [
       "                                0\n",
       "has_boss                 8.524886\n",
       "time_calls_weekday_mean  6.666910\n",
       "task_wasted_fraction     4.661210\n",
       "task_wasted_days_mean    4.386173\n",
       "time_late_mean           4.206492\n",
       "time_late_sum            4.079175\n",
       "edu_high                 3.969844\n",
       "task_count               3.720441\n",
       "id_org                   3.525137\n",
       "is_late_sum              3.331863\n",
       "call_weekday_count       3.243624\n",
       "is_late_mean             3.172193\n",
       "time_delay_mean          3.108780\n",
       "is_hooky_mean            3.097030\n",
       "calls_weekday_sum        2.987328\n",
       "is_delay_mean            2.950927\n",
       "time_hooky_sum           2.851232\n",
       "task_wasted_count        2.810247\n",
       "task_wasted_days_sum     2.732017\n",
       "time_calls_weekday_sum   2.708392\n",
       "time_hooky_mean          2.659772\n",
       "dateNum_count            2.581539\n",
       "is_delay_sum             2.446067\n",
       "education                2.356520\n",
       "time_delay_sum           1.858881\n",
       "is_hooky_last            1.678210\n",
       "is_hooky_sum             1.638941\n",
       "edu_middle_prof          1.472424\n",
       "time_calls_weekend_mean  1.467709\n",
       "call_weekend_count       1.143043\n",
       "edu_training             1.031560\n",
       "time_calls_weekend_sum   0.935248\n",
       "is_late_last             0.702942\n",
       "calls_weekend_sum        0.638717\n",
       "has_sub                  0.374713\n",
       "count_subords            0.252819\n",
       "edu_primary_prof         0.018616\n",
       "edu_middle               0.008376"
      ]
     },
     "execution_count": 19,
     "metadata": {},
     "output_type": "execute_result"
    }
   ],
   "source": [
    "feature_importance_df = pd.DataFrame(model.feature_importances_, index=X.columns)\n",
    "feature_importance_df.sort_values(by=0, ascending=False)"
   ]
  },
  {
   "cell_type": "code",
   "execution_count": 20,
   "metadata": {},
   "outputs": [
    {
     "data": {
      "image/png": "[encoded data removed]",
      "text/plain": [
       "<Figure size 800x950 with 1 Axes>"
      ]
     },
     "metadata": {},
     "output_type": "display_data"
    }
   ],
   "source": [
    "train_data = Pool(data=X,\n",
    "                  label=y,\n",
    "                  #cat_features=CAT_FEATURES\n",
    "                 )\n",
    "                 \n",
    "explainer = shap.TreeExplainer(model)\n",
    "shap_values = explainer.shap_values(train_data)\n",
    "shap.summary_plot(shap_values, X_train, feature_names=ALL_FEATURES)"
   ]
  },
  {
   "cell_type": "code",
   "execution_count": 21,
   "metadata": {},
   "outputs": [],
   "source": [
    "# predictions = models['XGBoost']['predictor'].predict(X_test)\n",
    "\n",
    "# df_test['type'] = predictions\n",
    "\n",
    "# df_test['type'].value_counts()"
   ]
  },
  {
   "cell_type": "code",
   "execution_count": 22,
   "metadata": {},
   "outputs": [],
   "source": [
    "# df_test[['id', 'type']].to_csv('test_10.csv', index=False)"
   ]
  }
 ],
 "metadata": {
  "kernelspec": {
   "display_name": "Python 3.9.13 ('base')",
   "language": "python",
   "name": "python3"
  },
  "language_info": {
   "codemirror_mode": {
    "name": "ipython",
    "version": 3
   },
   "file_extension": ".py",
   "mimetype": "text/x-python",
   "name": "python",
   "nbconvert_exporter": "python",
   "pygments_lexer": "ipython3",
   "version": "3.9.13"
  },
  "orig_nbformat": 4,
  "vscode": {
   "interpreter": {
    "hash": "61a57a4b5406d2de388e2f91097d4e4bcd7d5f4a46f53a795aa28a02eed27fc5"
   }
  }
 },
 "nbformat": 4,
 "nbformat_minor": 2
}
